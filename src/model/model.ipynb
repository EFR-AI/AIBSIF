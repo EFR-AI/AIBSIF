{
 "cells": [
  {
   "cell_type": "markdown",
   "id": "2d1bdb7b",
   "metadata": {},
   "source": [
    "# RELANCEZ BIEN LE NOTEBOOK ENTIER A CHAQUE TRAINING POUR GARDER UNE TRACE DES RESULTATS DE CHAQUE MODEL\n",
    "\n",
    "le model.summary est saved dans saved_models/nom_du_run_wandb"
   ]
  },
  {
   "cell_type": "code",
   "execution_count": 1,
   "id": "7a9dcaa3",
   "metadata": {},
   "outputs": [],
   "source": [
    "import sys\n",
    "sys.path.append('../data_cleaning')\n",
    "\n",
    "from time_series_forecasting import create_dataset\n",
    "from dataset import build_dataset"
   ]
  },
  {
   "cell_type": "code",
   "execution_count": 2,
   "id": "1c633324",
   "metadata": {},
   "outputs": [],
   "source": [
    "import wandb\n",
    "import tensorflow as tf"
   ]
  },
  {
   "cell_type": "code",
   "execution_count": 3,
   "id": "83cb8292-cdf7-4f02-bacd-8587c2e363b8",
   "metadata": {},
   "outputs": [],
   "source": [
    "from tensorflow.keras.layers import Dense\n",
    "from keras.layers import Input,Conv1D,MaxPooling1D,Bidirectional,Dropout,CuDNNLSTM,Dense,Input,LSTM, LeakyReLU\n",
    "from tensorflow.keras import Sequential"
   ]
  },
  {
   "cell_type": "markdown",
   "id": "1bc2aea6",
   "metadata": {},
   "source": [
    "### create wandb_api_key.txt and paste your api key inside &nbsp;&nbsp;&nbsp;&nbsp;&nbsp;&nbsp;&nbsp;&nbsp;&nbsp;&nbsp;&nbsp;&nbsp;&nbsp;&nbsp;&nbsp;&nbsp;&nbsp;&nbsp;&nbsp;&nbsp;&nbsp;&nbsp;&nbsp;&nbsp;&nbsp;&nbsp;&nbsp;&nbsp;&nbsp;&nbsp;&nbsp; from https://wandb.ai/settings"
   ]
  },
  {
   "cell_type": "code",
   "execution_count": 4,
   "id": "d54c1e65",
   "metadata": {},
   "outputs": [
    {
     "name": "stderr",
     "output_type": "stream",
     "text": [
      "\u001b[34m\u001b[1mwandb\u001b[0m: Currently logged in as: \u001b[33mduramann\u001b[0m (use `wandb login --relogin` to force relogin)\n",
      "\u001b[34m\u001b[1mwandb\u001b[0m: \u001b[33mWARNING\u001b[0m If you're specifying your api key in code, ensure this code is not shared publicly.\n",
      "\u001b[34m\u001b[1mwandb\u001b[0m: \u001b[33mWARNING\u001b[0m Consider setting the WANDB_API_KEY environment variable, or running `wandb login` from the command line.\n",
      "\u001b[34m\u001b[1mwandb\u001b[0m: Appending key for api.wandb.ai to your netrc file: C:\\Users\\theo-/.netrc\n"
     ]
    }
   ],
   "source": [
    "file = open('wandb_api_key.txt', 'r')\n",
    "wandb.login(key=file.readline()) # mettez\n",
    "file.close()\n",
    "            "
   ]
  },
  {
   "cell_type": "code",
   "execution_count": 5,
   "id": "3090f8c5-2b4d-41e7-b382-6d0ac7e021b5",
   "metadata": {},
   "outputs": [
    {
     "data": {
      "text/html": [
       "Tracking run with wandb version 0.12.11"
      ],
      "text/plain": [
       "<IPython.core.display.HTML object>"
      ]
     },
     "metadata": {},
     "output_type": "display_data"
    },
    {
     "data": {
      "text/html": [
       "Run data is saved locally in <code>D:\\Logiciel_école\\GitHub\\AIBSIF\\src\\model\\wandb\\run-20220324_174758-3nt048ul</code>"
      ],
      "text/plain": [
       "<IPython.core.display.HTML object>"
      ]
     },
     "metadata": {},
     "output_type": "display_data"
    },
    {
     "data": {
      "text/html": [
       "Syncing run <strong><a href=\"https://wandb.ai/efrai/AI_Based_Sensor_Information_Fusion/runs/3nt048ul\" target=\"_blank\">lively-elevator-41</a></strong> to <a href=\"https://wandb.ai/efrai/AI_Based_Sensor_Information_Fusion\" target=\"_blank\">Weights & Biases</a> (<a href=\"https://wandb.me/run\" target=\"_blank\">docs</a>)<br/>"
      ],
      "text/plain": [
       "<IPython.core.display.HTML object>"
      ]
     },
     "metadata": {},
     "output_type": "display_data"
    }
   ],
   "source": [
    "wandb.init(project=\"AI_Based_Sensor_Information_Fusion\", entity=\"efrai\")\n",
    "batch_size = 128\n",
    "epochs = 200\n",
    "learning_rate = 1e-5\n",
    "##To edit: \n",
    "config = {\n",
    "    \"learning_rate\": learning_rate,\n",
    "    \"epochs\": epochs,\n",
    "    \"batch_size\": batch_size,\n",
    "    \"window_size\": 30,\n",
    "    \"stride\":5,\n",
    "    \"number_imu\":3,\n",
    "    \"bidirectional\":True,\n",
    "    \"lstm_number\": 2,\n",
    "    \"lstm_neurons\":128,\n",
    "    \"dropout\":0.2,\n",
    "    \"dense_number\":2,\n",
    "    \"dense_first_neuron\":128,#puissance de 2\n",
    "    \"activation_dense\":'relu',\n",
    "}\n",
    "\n",
    "wandb.init(project=\"AI_Based_Sensor_Information_Fusion\", entity=\"efrai\",config=config)"
   ]
  },
  {
   "cell_type": "code",
   "execution_count": 6,
   "id": "bf2db605-9562-45f5-bff9-7595a421439f",
   "metadata": {},
   "outputs": [],
   "source": [
    "x_train, y_train = build_dataset(0, 50, wandb.config['window_size'],wandb.config['stride'],wandb.config['number_imu'])\n",
    "x_test, y_test = build_dataset(51,60, wandb.config['window_size'],wandb.config['stride'],wandb.config['number_imu']) "
   ]
  },
  {
   "cell_type": "code",
   "execution_count": 7,
   "id": "1b77774e-c501-4815-b56b-373bff06d18d",
   "metadata": {},
   "outputs": [],
   "source": [
    "model = Sequential()\n",
    "model.add(Input((wandb.config['window_size'], 6*wandb.config['number_imu'])))\n",
    "if wandb.config['bidirectional']:\n",
    "    model.add(Bidirectional(CuDNNLSTM(wandb.config['lstm_neurons'], return_sequences=True)))\n",
    "else:\n",
    "    model.add(LSTM(wandb.config['lstm_neurons'], return_sequences=True))\n",
    "for s in range(wandb.config['lstm_number']-1):\n",
    "    if wandb.config['bidirectional']:\n",
    "        model.add(Bidirectional(CuDNNLSTM(wandb.config['lstm_neurons'])))\n",
    "    else:\n",
    "        model.add(CuDNNLSTM(wandb.config['lstm_neurons']))\n",
    "model.add(Dropout(wandb.config['dropout']))\n",
    "for d in range(wandb.config['dense_number']):\n",
    "    model.add(Dense(int(wandb.config['dense_first_neuron'])/(d+1), activation=wandb.config['activation_dense']))\n",
    "model.add(Dense(6, activation='relu'))\n",
    "    \n",
    "    \n",
    "\n",
    "opt = tf.keras.optimizers.Adam(learning_rate)\n",
    "model.compile(optimizer=opt, loss='mse')  "
   ]
  },
  {
   "cell_type": "code",
   "execution_count": 8,
   "id": "f388958b-dae5-4e81-9e77-144941647427",
   "metadata": {},
   "outputs": [
    {
     "name": "stdout",
     "output_type": "stream",
     "text": [
      "Model: \"sequential\"\n",
      "_________________________________________________________________\n",
      " Layer (type)                Output Shape              Param #   \n",
      "=================================================================\n",
      " bidirectional (Bidirectiona  (None, 30, 256)          151552    \n",
      " l)                                                              \n",
      "                                                                 \n",
      " bidirectional_1 (Bidirectio  (None, 256)              395264    \n",
      " nal)                                                            \n",
      "                                                                 \n",
      " dropout (Dropout)           (None, 256)               0         \n",
      "                                                                 \n",
      " dense (Dense)               (None, 128)               32896     \n",
      "                                                                 \n",
      " dense_1 (Dense)             (None, 64)                8256      \n",
      "                                                                 \n",
      " dense_2 (Dense)             (None, 6)                 390       \n",
      "                                                                 \n",
      "=================================================================\n",
      "Total params: 588,358\n",
      "Trainable params: 588,358\n",
      "Non-trainable params: 0\n",
      "_________________________________________________________________\n"
     ]
    }
   ],
   "source": [
    "model.summary()"
   ]
  },
  {
   "cell_type": "code",
   "execution_count": 9,
   "id": "7577f6b8",
   "metadata": {},
   "outputs": [
    {
     "name": "stdout",
     "output_type": "stream",
     "text": [
      "Epoch 1/200\n",
      "350/350 [==============================] - 12s 24ms/step - loss: 0.1808 - _timestamp: 1648140509.3803 - _runtime: 30.3803 - val_loss: 0.0980\n",
      "Epoch 2/200\n",
      "350/350 [==============================] - 8s 22ms/step - loss: 0.0958 - _timestamp: 1648140517.8451 - _runtime: 38.8451 - val_loss: 0.0882\n",
      "Epoch 3/200\n",
      "350/350 [==============================] - 8s 22ms/step - loss: 0.0892 - _timestamp: 1648140525.6338 - _runtime: 46.6338 - val_loss: 0.0855\n",
      "Epoch 4/200\n",
      "350/350 [==============================] - 8s 22ms/step - loss: 0.0866 - _timestamp: 1648140533.5070 - _runtime: 54.5070 - val_loss: 0.0843\n",
      "Epoch 5/200\n",
      "350/350 [==============================] - 8s 23ms/step - loss: 0.0850 - _timestamp: 1648140541.4507 - _runtime: 62.4507 - val_loss: 0.0831 - _timestamp: 1648140541.0000 - _run\n",
      "Epoch 6/200\n",
      "350/350 [==============================] - 8s 23ms/step - loss: 0.0839 - _timestamp: 1648140549.4366 - _runtime: 70.4366 - val_loss: 0.0823\n",
      "Epoch 7/200\n",
      "350/350 [==============================] - 8s 23ms/step - loss: 0.0827 - _timestamp: 1648140557.4366 - _runtime: 78.4366 - val_loss: 0.0812\n",
      "Epoch 8/200\n",
      "350/350 [==============================] - 8s 23ms/step - loss: 0.0818 - _timestamp: 1648140565.4225 - _runtime: 86.4225 - val_loss: 0.0803\n",
      "Epoch 9/200\n",
      "350/350 [==============================] - 8s 23ms/step - loss: 0.0810 - _timestamp: 1648140573.3521 - _runtime: 94.3521 - val_loss: 0.0795\n",
      "Epoch 10/200\n",
      "350/350 [==============================] - 8s 22ms/step - loss: 0.0805 - _timestamp: 1648140581.3662 - _runtime: 102.3662 - val_loss: 0.0794\n",
      "Epoch 11/200\n",
      "350/350 [==============================] - 8s 23ms/step - loss: 0.0801 - _timestamp: 1648140589.2817 - _runtime: 110.2817 - val_loss: 0.0788\n",
      "Epoch 12/200\n",
      "350/350 [==============================] - 8s 23ms/step - loss: 0.0798 - _timestamp: 1648140597.1972 - _runtime: 118.1972 - val_loss: 0.0785\n",
      "Epoch 13/200\n",
      "350/350 [==============================] - 8s 22ms/step - loss: 0.0795 - _timestamp: 1648140605.1268 - _runtime: 126.1268 - val_loss: 0.0786\n",
      "Epoch 14/200\n",
      "350/350 [==============================] - 8s 23ms/step - loss: 0.0793 - _timestamp: 1648140613.0282 - _runtime: 134.0282 - val_loss: 0.0781- _timestamp: 1648140610.6538 - _run - ETA: 1s - loss:\n",
      "Epoch 15/200\n",
      "350/350 [==============================] - 8s 23ms/step - loss: 0.0791 - _timestamp: 1648140621.0141 - _runtime: 142.0141 - val_loss: 0.0779\n",
      "Epoch 16/200\n",
      "350/350 [==============================] - 8s 23ms/step - loss: 0.0788 - _timestamp: 1648140629.1690 - _runtime: 150.1690 - val_loss: 0.0778\n",
      "Epoch 17/200\n",
      "350/350 [==============================] - 8s 23ms/step - loss: 0.0786 - _timestamp: 1648140637.2535 - _runtime: 158.2535 - val_loss: 0.0774\n",
      "Epoch 18/200\n",
      "350/350 [==============================] - 8s 24ms/step - loss: 0.0783 - _timestamp: 1648140645.3521 - _runtime: 166.3521 - val_loss: 0.0773- _timestamp: 1648140644.5 - ETA: 0s - loss: 0.0785 - _timestamp: 1648140644.9\n",
      "Epoch 19/200\n",
      "350/350 [==============================] - 8s 24ms/step - loss: 0.0781 - _timestamp: 1648140653.5775 - _runtime: 174.5775 - val_loss: 0.0770\n",
      "Epoch 20/200\n",
      "350/350 [==============================] - 8s 24ms/step - loss: 0.0779 - _timestamp: 1648140661.8873 - _runtime: 182.8873 - val_loss: 0.0768\n",
      "Epoch 21/200\n",
      "350/350 [==============================] - 8s 24ms/step - loss: 0.0777 - _timestamp: 1648140670.1690 - _runtime: 191.1690 - val_loss: 0.0766\n",
      "Epoch 22/200\n",
      "350/350 [==============================] - 8s 24ms/step - loss: 0.0775 - _timestamp: 1648140678.4648 - _runtime: 199.4648 - val_loss: 0.0764\n",
      "Epoch 23/200\n",
      "350/350 [==============================] - 9s 25ms/step - loss: 0.0774 - _timestamp: 1648140686.8451 - _runtime: 207.8451 - val_loss: 0.0763\n",
      "Epoch 24/200\n",
      "350/350 [==============================] - 9s 24ms/step - loss: 0.0772 - _timestamp: 1648140695.5352 - _runtime: 216.5352 - val_loss: 0.0762\n",
      "Epoch 25/200\n",
      "350/350 [==============================] - 8s 23ms/step - loss: 0.0770 - _timestamp: 1648140703.9577 - _runtime: 224.9577 - val_loss: 0.0761- _timestamp: 1648140703.8406 - _runtime: 22\n",
      "Epoch 26/200\n",
      "350/350 [==============================] - 8s 23ms/step - loss: 0.0769 - _timestamp: 1648140712.0423 - _runtime: 233.0423 - val_loss: 0.0759\n",
      "Epoch 27/200\n",
      "350/350 [==============================] - 8s 23ms/step - loss: 0.0767 - _timestamp: 1648140720.1127 - _runtime: 241.1127 - val_loss: 0.0756\n",
      "Epoch 28/200\n",
      "350/350 [==============================] - 8s 23ms/step - loss: 0.0765 - _timestamp: 1648140728.1549 - _runtime: 249.1549 - val_loss: 0.0756\n",
      "Epoch 29/200\n",
      "350/350 [==============================] - 8s 23ms/step - loss: 0.0654 - _timestamp: 1648140736.2817 - _runtime: 257.2817 - val_loss: 0.0397\n",
      "Epoch 30/200\n",
      "350/350 [==============================] - 9s 24ms/step - loss: 0.0355 - _timestamp: 1648140744.5352 - _runtime: 265.5352 - val_loss: 0.0271\n",
      "Epoch 31/200\n",
      "350/350 [==============================] - 8s 24ms/step - loss: 0.0269 - _timestamp: 1648140753.0423 - _runtime: 274.0423 - val_loss: 0.0209\n",
      "Epoch 32/200\n",
      "350/350 [==============================] - 8s 24ms/step - loss: 0.0232 - _timestamp: 1648140761.3521 - _runtime: 282.3521 - val_loss: 0.0193- \n",
      "Epoch 33/200\n",
      "350/350 [==============================] - 8s 23ms/step - loss: 0.0220 - _timestamp: 1648140769.5634 - _runtime: 290.5634 - val_loss: 0.0186\n",
      "Epoch 34/200\n",
      "350/350 [==============================] - 8s 24ms/step - loss: 0.0211 - _timestamp: 1648140777.8028 - _runtime: 298.8028 - val_loss: 0.0180\n",
      "Epoch 35/200\n",
      "350/350 [==============================] - 8s 24ms/step - loss: 0.0206 - _timestamp: 1648140786.2535 - _runtime: 307.2535 - val_loss: 0.0177\n",
      "Epoch 36/200\n",
      "350/350 [==============================] - 9s 24ms/step - loss: 0.0201 - _timestamp: 1648140794.6761 - _runtime: 315.6761 - val_loss: 0.0170\n",
      "Epoch 37/200\n",
      "350/350 [==============================] - 8s 24ms/step - loss: 0.0196 - _timestamp: 1648140803.1127 - _runtime: 324.1127 - val_loss: 0.0169\n",
      "Epoch 38/200\n",
      "350/350 [==============================] - 8s 23ms/step - loss: 0.0192 - _timestamp: 1648140811.3521 - _runtime: 332.3521 - val_loss: 0.0165\n",
      "Epoch 39/200\n",
      "350/350 [==============================] - 8s 23ms/step - loss: 0.0190 - _timestamp: 1648140819.5352 - _runtime: 340.5352 - val_loss: 0.0161\n",
      "Epoch 40/200\n",
      "350/350 [==============================] - 8s 24ms/step - loss: 0.0186 - _timestamp: 1648140827.7324 - _runtime: 348.7324 - val_loss: 0.0160\n",
      "Epoch 41/200\n",
      "350/350 [==============================] - 8s 23ms/step - loss: 0.0183 - _timestamp: 1648140835.9437 - _runtime: 356.9437 - val_loss: 0.0158\n",
      "Epoch 42/200\n",
      "350/350 [==============================] - 8s 23ms/step - loss: 0.0181 - _timestamp: 1648140844.1127 - _runtime: 365.1127 - val_loss: 0.0154\n",
      "Epoch 43/200\n",
      "350/350 [==============================] - 8s 24ms/step - loss: 0.0178 - _timestamp: 1648140852.3521 - _runtime: 373.3521 - val_loss: 0.0153\n",
      "Epoch 44/200\n",
      "350/350 [==============================] - 8s 23ms/step - loss: 0.0176 - _timestamp: 1648140860.4930 - _runtime: 381.4930 - val_loss: 0.0156\n",
      "Epoch 45/200\n",
      "350/350 [==============================] - 8s 24ms/step - loss: 0.0174 - _timestamp: 1648140868.6620 - _runtime: 389.6620 - val_loss: 0.0149\n",
      "Epoch 46/200\n",
      "350/350 [==============================] - 8s 23ms/step - loss: 0.0171 - _timestamp: 1648140876.9155 - _runtime: 397.9155 - val_loss: 0.0149- _tim\n",
      "Epoch 47/200\n",
      "350/350 [==============================] - 8s 24ms/step - loss: 0.0169 - _timestamp: 1648140885.1268 - _runtime: 406.1268 - val_loss: 0.0148\n",
      "Epoch 48/200\n",
      "350/350 [==============================] - 8s 24ms/step - loss: 0.0167 - _timestamp: 1648140893.4648 - _runtime: 414.4648 - val_loss: 0.0146\n",
      "Epoch 49/200\n",
      "350/350 [==============================] - 8s 23ms/step - loss: 0.0166 - _timestamp: 1648140901.7606 - _runtime: 422.7606 - val_loss: 0.0143- _timestamp: 1648140901.6029 - _runtime\n",
      "Epoch 50/200\n",
      "350/350 [==============================] - 8s 23ms/step - loss: 0.0164 - _timestamp: 1648140909.8873 - _runtime: 430.8873 - val_loss: 0.0143\n",
      "Epoch 51/200\n",
      "350/350 [==============================] - 8s 24ms/step - loss: 0.0162 - _timestamp: 1648140918.0845 - _runtime: 439.0845 - val_loss: 0.0140\n",
      "Epoch 52/200\n",
      "350/350 [==============================] - 8s 24ms/step - loss: 0.0161 - _timestamp: 1648140926.6338 - _runtime: 447.6338 - val_loss: 0.0140\n",
      "Epoch 53/200\n",
      "350/350 [==============================] - 9s 24ms/step - loss: 0.0159 - _timestamp: 1648140935.1268 - _runtime: 456.1268 - val_loss: 0.0139\n",
      "Epoch 54/200\n",
      "350/350 [==============================] - 8s 24ms/step - loss: 0.0158 - _timestamp: 1648140943.5070 - _runtime: 464.5070 - val_loss: 0.0136\n",
      "Epoch 55/200\n",
      "350/350 [==============================] - 8s 23ms/step - loss: 0.0156 - _timestamp: 1648140951.5915 - _runtime: 472.5915 - val_loss: 0.0134\n",
      "Epoch 56/200\n",
      "350/350 [==============================] - 8s 24ms/step - loss: 0.0155 - _timestamp: 1648140959.6479 - _runtime: 480.6479 - val_loss: 0.0135\n",
      "Epoch 57/200\n",
      "350/350 [==============================] - 9s 25ms/step - loss: 0.0153 - _timestamp: 1648140968.0141 - _runtime: 489.0141 - val_loss: 0.0133\n",
      "Epoch 58/200\n",
      "350/350 [==============================] - 9s 25ms/step - loss: 0.0152 - _timestamp: 1648140976.6901 - _runtime: 497.6901 - val_loss: 0.0133- _timestamp: 1648140976.4478 - _runti\n",
      "Epoch 59/200\n",
      "350/350 [==============================] - 9s 25ms/step - loss: 0.0150 - _timestamp: 1648140985.2958 - _runtime: 506.2958 - val_loss: 0.0130- _timestamp: 1648140985.2286 - _runtime: 506.\n",
      "Epoch 60/200\n",
      "350/350 [==============================] - 9s 27ms/step - loss: 0.0149 - _timestamp: 1648140994.3099 - _runtime: 515.3099 - val_loss: 0.0131\n",
      "Epoch 61/200\n",
      "350/350 [==============================] - 9s 24ms/step - loss: 0.0147 - _timestamp: 1648141003.5211 - _runtime: 524.5211 - val_loss: 0.0131\n",
      "Epoch 62/200\n",
      "350/350 [==============================] - 8s 24ms/step - loss: 0.0146 - _timestamp: 1648141011.7606 - _runtime: 532.7606 - val_loss: 0.0128\n",
      "Epoch 63/200\n",
      "350/350 [==============================] - 8s 24ms/step - loss: 0.0146 - _timestamp: 1648141020.0986 - _runtime: 541.0986 - val_loss: 0.0128- _timestamp: 1648\n",
      "Epoch 64/200\n",
      "350/350 [==============================] - 9s 25ms/step - loss: 0.0143 - _timestamp: 1648141028.4648 - _runtime: 549.4648 - val_loss: 0.0126\n",
      "Epoch 65/200\n",
      "350/350 [==============================] - 9s 25ms/step - loss: 0.0142 - _timestamp: 1648141037.1690 - _runtime: 558.1690 - val_loss: 0.0125\n",
      "Epoch 66/200\n",
      "350/350 [==============================] - 9s 25ms/step - loss: 0.0142 - _timestamp: 1648141046.0000 - _runtime: 567.0000 - val_loss: 0.0124\n",
      "Epoch 67/200\n",
      "350/350 [==============================] - 9s 25ms/step - loss: 0.0140 - _timestamp: 1648141054.7324 - _runtime: 575.7324 - val_loss: 0.0121\n",
      "Epoch 68/200\n",
      "350/350 [==============================] - 9s 24ms/step - loss: 0.0139 - _timestamp: 1648141063.3944 - _runtime: 584.3944 - val_loss: 0.0124\n",
      "Epoch 69/200\n",
      "350/350 [==============================] - 9s 25ms/step - loss: 0.0138 - _timestamp: 1648141071.9437 - _runtime: 592.9437 - val_loss: 0.0123\n",
      "Epoch 70/200\n",
      "350/350 [==============================] - 8s 24ms/step - loss: 0.0138 - _timestamp: 1648141080.5634 - _runtime: 601.5634 - val_loss: 0.0121\n",
      "Epoch 71/200\n",
      "350/350 [==============================] - 8s 24ms/step - loss: 0.0136 - _timestamp: 1648141088.8451 - _runtime: 609.8451 - val_loss: 0.0124- _timesta\n",
      "Epoch 72/200\n",
      "350/350 [==============================] - 9s 24ms/step - loss: 0.0134 - _timestamp: 1648141097.3239 - _runtime: 618.3239 - val_loss: 0.0118\n",
      "Epoch 73/200\n",
      "350/350 [==============================] - 9s 24ms/step - loss: 0.0134 - _timestamp: 1648141105.8592 - _runtime: 626.8592 - val_loss: 0.0119\n",
      "Epoch 74/200\n",
      "350/350 [==============================] - 9s 25ms/step - loss: 0.0133 - _timestamp: 1648141114.4085 - _runtime: 635.4085 - val_loss: 0.0117\n",
      "Epoch 75/200\n",
      "350/350 [==============================] - 9s 24ms/step - loss: 0.0132 - _timestamp: 1648141123.0141 - _runtime: 644.0141 - val_loss: 0.0117\n",
      "Epoch 76/200\n",
      "350/350 [==============================] - 9s 24ms/step - loss: 0.0132 - _timestamp: 1648141131.5775 - _runtime: 652.5775 - val_loss: 0.0117\n",
      "Epoch 77/200\n",
      "350/350 [==============================] - 9s 24ms/step - loss: 0.0130 - _timestamp: 1648141140.0423 - _runtime: 661.0423 - val_loss: 0.0115\n",
      "Epoch 78/200\n",
      "350/350 [==============================] - 9s 24ms/step - loss: 0.0129 - _timestamp: 1648141148.6056 - _runtime: 669.6056 - val_loss: 0.0112\n",
      "Epoch 79/200\n",
      "350/350 [==============================] - 9s 25ms/step - loss: 0.0129 - _timestamp: 1648141157.1972 - _runtime: 678.1972 - val_loss: 0.0112\n",
      "Epoch 80/200\n",
      "350/350 [==============================] - 9s 24ms/step - loss: 0.0127 - _timestamp: 1648141165.7324 - _runtime: 686.7324 - val_loss: 0.0110\n",
      "Epoch 81/200\n",
      "350/350 [==============================] - 9s 24ms/step - loss: 0.0127 - _timestamp: 1648141174.2817 - _runtime: 695.2817 - val_loss: 0.0111\n",
      "Epoch 82/200\n",
      "350/350 [==============================] - 9s 25ms/step - loss: 0.0125 - _timestamp: 1648141182.9155 - _runtime: 703.9155 - val_loss: 0.0110\n",
      "Epoch 83/200\n",
      "350/350 [==============================] - 9s 25ms/step - loss: 0.0124 - _timestamp: 1648141191.6620 - _runtime: 712.6620 - val_loss: 0.0113\n",
      "Epoch 84/200\n",
      "350/350 [==============================] - 9s 27ms/step - loss: 0.0124 - _timestamp: 1648141200.4789 - _runtime: 721.4789 - val_loss: 0.0110\n",
      "Epoch 85/200\n",
      "350/350 [==============================] - 9s 25ms/step - loss: 0.0124 - _timestamp: 1648141209.6901 - _runtime: 730.6901 - val_loss: 0.0110\n",
      "Epoch 86/200\n",
      "350/350 [==============================] - 9s 25ms/step - loss: 0.0122 - _timestamp: 1648141218.3099 - _runtime: 739.3099 - val_loss: 0.0108\n",
      "Epoch 87/200\n",
      "350/350 [==============================] - 9s 25ms/step - loss: 0.0123 - _timestamp: 1648141226.9859 - _runtime: 747.9859 - val_loss: 0.0108- _tim\n",
      "Epoch 88/200\n",
      "350/350 [==============================] - 9s 25ms/step - loss: 0.0121 - _timestamp: 1648141235.6761 - _runtime: 756.6761 - val_loss: 0.0106\n",
      "Epoch 89/200\n",
      "350/350 [==============================] - 9s 25ms/step - loss: 0.0121 - _timestamp: 1648141244.3662 - _runtime: 765.3662 - val_loss: 0.0107\n",
      "Epoch 90/200\n",
      "350/350 [==============================] - 8s 24ms/step - loss: 0.0120 - _timestamp: 1648141253.0423 - _runtime: 774.0423 - val_loss: 0.0104- _timestamp: 164814\n",
      "Epoch 91/200\n",
      "350/350 [==============================] - 9s 24ms/step - loss: 0.0119 - _timestamp: 1648141261.4366 - _runtime: 782.4366 - val_loss: 0.0105\n",
      "Epoch 92/200\n",
      "350/350 [==============================] - 8s 24ms/step - loss: 0.0119 - _timestamp: 1648141269.9718 - _runtime: 790.9718 - val_loss: 0.0105\n",
      "Epoch 93/200\n",
      "350/350 [==============================] - 8s 24ms/step - loss: 0.0118 - _timestamp: 1648141278.3944 - _runtime: 799.3944 - val_loss: 0.0103\n",
      "Epoch 94/200\n",
      "350/350 [==============================] - 9s 24ms/step - loss: 0.0117 - _timestamp: 1648141286.9155 - _runtime: 807.9155 - val_loss: 0.0101\n",
      "Epoch 95/200\n",
      "350/350 [==============================] - 8s 24ms/step - loss: 0.0116 - _timestamp: 1648141295.5070 - _runtime: 816.5070 - val_loss: 0.0102\n",
      "Epoch 96/200\n",
      "350/350 [==============================] - 8s 24ms/step - loss: 0.0116 - _timestamp: 1648141303.9577 - _runtime: 824.9577 - val_loss: 0.0106\n",
      "Epoch 97/200\n",
      "350/350 [==============================] - 8s 24ms/step - loss: 0.0115 - _timestamp: 1648141312.4366 - _runtime: 833.4366 - val_loss: 0.0103- _timestamp\n",
      "Epoch 98/200\n",
      "350/350 [==============================] - 9s 24ms/step - loss: 0.0116 - _timestamp: 1648141320.8732 - _runtime: 841.8732 - val_loss: 0.0101\n",
      "Epoch 99/200\n",
      "350/350 [==============================] - 9s 24ms/step - loss: 0.0114 - _timestamp: 1648141329.3662 - _runtime: 850.3662 - val_loss: 0.0100- _timestamp: 1648141329.3000 - _runtime: 850.\n",
      "Epoch 100/200\n",
      "350/350 [==============================] - 8s 24ms/step - loss: 0.0112 - _timestamp: 1648141337.8873 - _runtime: 858.8873 - val_loss: 0.0099\n",
      "Epoch 101/200\n",
      "350/350 [==============================] - 9s 25ms/step - loss: 0.0113 - _timestamp: 1648141346.4789 - _runtime: 867.4789 - val_loss: 0.0100\n",
      "Epoch 102/200\n",
      "350/350 [==============================] - 10s 27ms/step - loss: 0.0112 - _timestamp: 1648141355.6479 - _runtime: 876.6479 - val_loss: 0.0103\n",
      "Epoch 103/200\n",
      "350/350 [==============================] - 9s 27ms/step - loss: 0.0112 - _timestamp: 1648141365.0986 - _runtime: 886.0986 - val_loss: 0.0100\n",
      "Epoch 104/200\n",
      "350/350 [==============================] - 10s 27ms/step - loss: 0.0112 - _timestamp: 1648141374.5493 - _runtime: 895.5493 - val_loss: 0.0100\n",
      "Epoch 105/200\n",
      "350/350 [==============================] - 9s 26ms/step - loss: 0.0111 - _timestamp: 1648141383.9296 - _runtime: 904.9296 - val_loss: 0.0098\n",
      "Epoch 106/200\n",
      "350/350 [==============================] - 9s 25ms/step - loss: 0.0110 - _timestamp: 1648141392.8169 - _runtime: 913.8169 - val_loss: 0.0099\n",
      "Epoch 107/200\n",
      "350/350 [==============================] - 9s 25ms/step - loss: 0.0110 - _timestamp: 1648141401.6479 - _runtime: 922.6479 - val_loss: 0.0096\n",
      "Epoch 108/200\n",
      "350/350 [==============================] - 9s 25ms/step - loss: 0.0108 - _timestamp: 1648141410.3380 - _runtime: 931.3380 - val_loss: 0.0094\n",
      "Epoch 109/200\n",
      "350/350 [==============================] - 9s 26ms/step - loss: 0.0109 - _timestamp: 1648141419.2958 - _runtime: 940.2958 - val_loss: 0.0096\n",
      "Epoch 110/200\n",
      "350/350 [==============================] - 9s 25ms/step - loss: 0.0108 - _timestamp: 1648141428.3239 - _runtime: 949.3239 - val_loss: 0.0094\n",
      "Epoch 111/200\n",
      "350/350 [==============================] - 9s 25ms/step - loss: 0.0108 - _timestamp: 1648141437.0563 - _runtime: 958.0563 - val_loss: 0.0098\n",
      "Epoch 112/200\n",
      "350/350 [==============================] - 9s 25ms/step - loss: 0.0108 - _timestamp: 1648141445.7887 - _runtime: 966.7887 - val_loss: 0.0094\n",
      "Epoch 113/200\n",
      "350/350 [==============================] - 9s 26ms/step - loss: 0.0107 - _timestamp: 1648141454.6761 - _runtime: 975.6761 - val_loss: 0.0098- _timestamp: 1648141454.3636 \n",
      "Epoch 114/200\n",
      "350/350 [==============================] - 9s 26ms/step - loss: 0.0106 - _timestamp: 1648141463.6056 - _runtime: 984.6056 - val_loss: 0.0093\n",
      "Epoch 115/200\n",
      "350/350 [==============================] - 9s 26ms/step - loss: 0.0106 - _timestamp: 1648141472.6197 - _runtime: 993.6197 - val_loss: 0.0094\n",
      "Epoch 116/200\n",
      "350/350 [==============================] - 9s 26ms/step - loss: 0.0105 - _timestamp: 1648141481.6901 - _runtime: 1002.6901 - val_loss: 0.0091\n",
      "Epoch 117/200\n",
      "350/350 [==============================] - 8s 24ms/step - loss: 0.0105 - _timestamp: 1648141490.6761 - _runtime: 1011.6761 - val_loss: 0.0096\n",
      "Epoch 118/200\n",
      "350/350 [==============================] - 9s 27ms/step - loss: 0.0104 - _timestamp: 1648141499.4507 - _runtime: 1020.4507 - val_loss: 0.0094\n",
      "Epoch 119/200\n",
      "350/350 [==============================] - 9s 27ms/step - loss: 0.0103 - _timestamp: 1648141508.7606 - _runtime: 1029.7606 - val_loss: 0.0094\n",
      "Epoch 120/200\n",
      "350/350 [==============================] - 9s 26ms/step - loss: 0.0103 - _timestamp: 1648141518.0423 - _runtime: 1039.0423 - val_loss: 0.0091\n",
      "Epoch 121/200\n",
      "350/350 [==============================] - 9s 26ms/step - loss: 0.0103 - _timestamp: 1648141527.0000 - _runtime: 1048.0000 - val_loss: 0.0092\n",
      "Epoch 122/200\n",
      "350/350 [==============================] - 9s 26ms/step - loss: 0.0102 - _timestamp: 1648141536.2113 - _runtime: 1057.2113 - val_loss: 0.0093\n",
      "Epoch 123/200\n",
      "350/350 [==============================] - 9s 27ms/step - loss: 0.0103 - _timestamp: 1648141545.3099 - _runtime: 1066.3099 - val_loss: 0.0089\n",
      "Epoch 124/200\n",
      "350/350 [==============================] - 9s 26ms/step - loss: 0.0102 - _timestamp: 1648141554.6197 - _runtime: 1075.6197 - val_loss: 0.0090\n",
      "Epoch 125/200\n",
      "350/350 [==============================] - 9s 25ms/step - loss: 0.0101 - _timestamp: 1648141563.3944 - _runtime: 1084.3944 - val_loss: 0.0089\n",
      "Epoch 126/200\n",
      "350/350 [==============================] - 9s 25ms/step - loss: 0.0101 - _timestamp: 1648141572.1268 - _runtime: 1093.1268 - val_loss: 0.0091\n",
      "Epoch 127/200\n",
      "350/350 [==============================] - 10s 28ms/step - loss: 0.0100 - _timestamp: 1648141581.1831 - _runtime: 1102.1831 - val_loss: 0.0089\n",
      "Epoch 128/200\n",
      "350/350 [==============================] - 9s 25ms/step - loss: 0.0101 - _timestamp: 1648141590.5915 - _runtime: 1111.5915 - val_loss: 0.0094\n",
      "Epoch 129/200\n",
      "350/350 [==============================] - 10s 29ms/step - loss: 0.0100 - _timestamp: 1648141600.0986 - _runtime: 1121.0986 - val_loss: 0.0088\n",
      "Epoch 130/200\n",
      "350/350 [==============================] - 9s 25ms/step - loss: 0.0100 - _timestamp: 1648141609.5493 - _runtime: 1130.5493 - val_loss: 0.0092\n",
      "Epoch 131/200\n",
      "350/350 [==============================] - 9s 25ms/step - loss: 0.0099 - _timestamp: 1648141618.3239 - _runtime: 1139.3239 - val_loss: 0.0086\n",
      "Epoch 132/200\n",
      "350/350 [==============================] - 9s 25ms/step - loss: 0.0099 - _timestamp: 1648141627.2113 - _runtime: 1148.2113 - val_loss: 0.0086\n",
      "Epoch 133/200\n",
      "350/350 [==============================] - 9s 25ms/step - loss: 0.0098 - _timestamp: 1648141636.0704 - _runtime: 1157.0704 - val_loss: 0.0086 - _timestamp: 16481\n",
      "Epoch 134/200\n",
      "350/350 [==============================] - 9s 25ms/step - loss: 0.0098 - _timestamp: 1648141645.0000 - _runtime: 1166.0000 - val_loss: 0.0087\n",
      "Epoch 135/200\n",
      "350/350 [==============================] - 9s 26ms/step - loss: 0.0098 - _timestamp: 1648141654.0000 - _runtime: 1175.0000 - val_loss: 0.0085\n",
      "Epoch 136/200\n",
      "350/350 [==============================] - 9s 26ms/step - loss: 0.0097 - _timestamp: 1648141663.0423 - _runtime: 1184.0423 - val_loss: 0.0087\n",
      "Epoch 137/200\n",
      "350/350 [==============================] - 9s 26ms/step - loss: 0.0096 - _timestamp: 1648141672.1127 - _runtime: 1193.1127 - val_loss: 0.0084\n",
      "Epoch 138/200\n",
      "350/350 [==============================] - 9s 25ms/step - loss: 0.0096 - _timestamp: 1648141680.9296 - _runtime: 1201.9296 - val_loss: 0.0087\n",
      "Epoch 139/200\n",
      "350/350 [==============================] - 9s 25ms/step - loss: 0.0096 - _timestamp: 1648141689.7746 - _runtime: 1210.7746 - val_loss: 0.0096\n",
      "Epoch 140/200\n",
      "350/350 [==============================] - 9s 25ms/step - loss: 0.0096 - _timestamp: 1648141698.6056 - _runtime: 1219.6056 - val_loss: 0.0087\n",
      "Epoch 141/200\n",
      "350/350 [==============================] - 9s 26ms/step - loss: 0.0095 - _timestamp: 1648141707.5775 - _runtime: 1228.5775 - val_loss: 0.0084\n",
      "Epoch 142/200\n",
      "350/350 [==============================] - 9s 26ms/step - loss: 0.0095 - _timestamp: 1648141716.6056 - _runtime: 1237.6056 - val_loss: 0.0085\n",
      "Epoch 143/200\n",
      "350/350 [==============================] - 9s 26ms/step - loss: 0.0095 - _timestamp: 1648141725.7324 - _runtime: 1246.7324 - val_loss: 0.0084 - \n",
      "Epoch 144/200\n",
      "350/350 [==============================] - 9s 25ms/step - loss: 0.0095 - _timestamp: 1648141734.6620 - _runtime: 1255.6620 - val_loss: 0.0083\n",
      "Epoch 145/200\n",
      "350/350 [==============================] - 9s 24ms/step - loss: 0.0094 - _timestamp: 1648141743.1549 - _runtime: 1264.1549 - val_loss: 0.0086 - _timestamp: 1648141742.573\n",
      "Epoch 146/200\n",
      "350/350 [==============================] - 9s 27ms/step - loss: 0.0093 - _timestamp: 1648141752.2817 - _runtime: 1273.2817 - val_loss: 0.0086 - _timest\n",
      "Epoch 147/200\n",
      "350/350 [==============================] - 9s 25ms/step - loss: 0.0092 - _timestamp: 1648141761.2535 - _runtime: 1282.2535 - val_loss: 0.0083\n",
      "Epoch 148/200\n",
      "350/350 [==============================] - 9s 25ms/step - loss: 0.0093 - _timestamp: 1648141770.1690 - _runtime: 1291.1690 - val_loss: 0.0083\n",
      "Epoch 149/200\n",
      "350/350 [==============================] - 8s 24ms/step - loss: 0.0093 - _timestamp: 1648141778.6338 - _runtime: 1299.6338 - val_loss: 0.0085 - _timestamp: 1648141777 - ETA: 0s - loss: 0.0092 - _timestamp: 1648141778.1290 - _run\n",
      "Epoch 150/200\n",
      "350/350 [==============================] - 10s 28ms/step - loss: 0.0093 - _timestamp: 1648141787.6620 - _runtime: 1308.6620 - val_loss: 0.0088\n",
      "Epoch 151/200\n",
      "350/350 [==============================] - 9s 25ms/step - loss: 0.0092 - _timestamp: 1648141796.9296 - _runtime: 1317.9296 - val_loss: 0.0082\n",
      "Epoch 152/200\n",
      "350/350 [==============================] - 9s 25ms/step - loss: 0.0093 - _timestamp: 1648141805.8169 - _runtime: 1326.8169 - val_loss: 0.0085\n",
      "Epoch 153/200\n",
      "350/350 [==============================] - 9s 26ms/step - loss: 0.0091 - _timestamp: 1648141814.6620 - _runtime: 1335.6620 - val_loss: 0.0081\n",
      "Epoch 154/200\n",
      "350/350 [==============================] - 9s 25ms/step - loss: 0.0091 - _timestamp: 1648141823.6620 - _runtime: 1344.6620 - val_loss: 0.0081\n",
      "Epoch 155/200\n",
      "350/350 [==============================] - 9s 25ms/step - loss: 0.0090 - _timestamp: 1648141832.5775 - _runtime: 1353.5775 - val_loss: 0.0082\n",
      "Epoch 156/200\n",
      "350/350 [==============================] - 8s 24ms/step - loss: 0.0091 - _timestamp: 1648141841.1127 - _runtime: 1362.1127 - val_loss: 0.0081\n",
      "Epoch 157/200\n",
      "350/350 [==============================] - 9s 26ms/step - loss: 0.0090 - _timestamp: 1648141849.6479 - _runtime: 1370.6479 - val_loss: 0.0077\n",
      "Epoch 158/200\n",
      "350/350 [==============================] - 9s 26ms/step - loss: 0.0090 - _timestamp: 1648141858.8310 - _runtime: 1379.8310 - val_loss: 0.0081\n",
      "Epoch 159/200\n",
      "350/350 [==============================] - 9s 25ms/step - loss: 0.0089 - _timestamp: 1648141867.8169 - _runtime: 1388.8169 - val_loss: 0.0081 - _timestamp: 1648141866\n",
      "Epoch 160/200\n",
      "350/350 [==============================] - 9s 24ms/step - loss: 0.0090 - _timestamp: 1648141876.4507 - _runtime: 1397.4507 - val_loss: 0.0079\n",
      "Epoch 161/200\n",
      "350/350 [==============================] - 9s 25ms/step - loss: 0.0089 - _timestamp: 1648141885.0282 - _runtime: 1406.0282 - val_loss: 0.0082 - _timestamp: 1648141884.3220 -\n",
      "Epoch 162/200\n",
      "350/350 [==============================] - 9s 25ms/step - loss: 0.0089 - _timestamp: 1648141893.6197 - _runtime: 1414.6197 - val_loss: 0.0081\n",
      "Epoch 163/200\n",
      "350/350 [==============================] - 9s 25ms/step - loss: 0.0089 - _timestamp: 1648141902.2254 - _runtime: 1423.2254 - val_loss: 0.0081\n",
      "Epoch 164/200\n",
      "350/350 [==============================] - 9s 25ms/step - loss: 0.0089 - _timestamp: 1648141910.9718 - _runtime: 1431.9718 - val_loss: 0.0079\n",
      "Epoch 165/200\n",
      "350/350 [==============================] - 10s 29ms/step - loss: 0.0088 - _timestamp: 1648141920.4930 - _runtime: 1441.4930 - val_loss: 0.0079\n",
      "Epoch 166/200\n",
      "350/350 [==============================] - 9s 25ms/step - loss: 0.0089 - _timestamp: 1648141929.7465 - _runtime: 1450.7465 - val_loss: 0.0086\n",
      "Epoch 167/200\n",
      "350/350 [==============================] - 8s 24ms/step - loss: 0.0087 - _timestamp: 1648141938.2394 - _runtime: 1459.2394 - val_loss: 0.0077 - _timestamp: 1648141937.5424 -\n",
      "Epoch 168/200\n",
      "350/350 [==============================] - 9s 25ms/step - loss: 0.0087 - _timestamp: 1648141946.8451 - _runtime: 1467.8451 - val_loss: 0.0080\n",
      "Epoch 169/200\n",
      "350/350 [==============================] - 9s 25ms/step - loss: 0.0087 - _timestamp: 1648141955.7042 - _runtime: 1476.7042 - val_loss: 0.0078\n",
      "Epoch 170/200\n",
      "350/350 [==============================] - 9s 24ms/step - loss: 0.0088 - _timestamp: 1648141964.3521 - _runtime: 1485.3521 - val_loss: 0.0078\n",
      "Epoch 171/200\n",
      "350/350 [==============================] - 8s 24ms/step - loss: 0.0086 - _timestamp: 1648141972.7746 - _runtime: 1493.7746 - val_loss: 0.0077\n",
      "Epoch 172/200\n",
      "350/350 [==============================] - 9s 27ms/step - loss: 0.0087 - _timestamp: 1648141981.5493 - _runtime: 1502.5493 - val_loss: 0.0076\n",
      "Epoch 173/200\n",
      "350/350 [==============================] - 9s 26ms/step - loss: 0.0087 - _timestamp: 1648141991.0141 - _runtime: 1512.0141 - val_loss: 0.0082\n",
      "Epoch 174/200\n",
      "350/350 [==============================] - 9s 25ms/step - loss: 0.0086 - _timestamp: 1648141999.8451 - _runtime: 1520.8451 - val_loss: 0.0078 - _timestamp: 1648141999.7246 - _runtime: 1520.\n",
      "Epoch 175/200\n",
      "350/350 [==============================] - 9s 25ms/step - loss: 0.0085 - _timestamp: 1648142008.5775 - _runtime: 1529.5775 - val_loss: 0.0078\n",
      "Epoch 176/200\n",
      "350/350 [==============================] - 9s 24ms/step - loss: 0.0086 - _timestamp: 1648142017.2958 - _runtime: 1538.2958 - val_loss: 0.0074\n",
      "Epoch 177/200\n",
      "350/350 [==============================] - 9s 25ms/step - loss: 0.0086 - _timestamp: 1648142025.8873 - _runtime: 1546.8873 - val_loss: 0.0074\n",
      "Epoch 178/200\n",
      "350/350 [==============================] - 9s 26ms/step - loss: 0.0085 - _timestamp: 1648142034.7465 - _runtime: 1555.7465 - val_loss: 0.0077\n",
      "Epoch 179/200\n",
      "350/350 [==============================] - 9s 26ms/step - loss: 0.0085 - _timestamp: 1648142043.7324 - _runtime: 1564.7324 - val_loss: 0.0076\n",
      "Epoch 180/200\n",
      "350/350 [==============================] - 9s 26ms/step - loss: 0.0084 - _timestamp: 1648142052.9296 - _runtime: 1573.9296 - val_loss: 0.0077\n",
      "Epoch 181/200\n",
      "350/350 [==============================] - 9s 25ms/step - loss: 0.0084 - _timestamp: 1648142061.7183 - _runtime: 1582.7183 - val_loss: 0.0075\n",
      "Epoch 182/200\n",
      "350/350 [==============================] - 9s 25ms/step - loss: 0.0084 - _timestamp: 1648142070.3521 - _runtime: 1591.3521 - val_loss: 0.0078 - _\n",
      "Epoch 183/200\n",
      "350/350 [==============================] - 9s 25ms/step - loss: 0.0084 - _timestamp: 1648142079.1972 - _runtime: 1600.1972 - val_loss: 0.0074\n",
      "Epoch 184/200\n",
      "350/350 [==============================] - 9s 25ms/step - loss: 0.0084 - _timestamp: 1648142087.9296 - _runtime: 1608.9296 - val_loss: 0.0075\n",
      "Epoch 185/200\n",
      "350/350 [==============================] - 9s 25ms/step - loss: 0.0083 - _timestamp: 1648142096.6338 - _runtime: 1617.6338 - val_loss: 0.0076\n",
      "Epoch 186/200\n",
      "350/350 [==============================] - 9s 25ms/step - loss: 0.0084 - _timestamp: 1648142105.3239 - _runtime: 1626.3239 - val_loss: 0.0077 - _timestamp: 1648142104.1923 - _runtime: 1625.1 - ETA: 1s - loss: 0.0085 - _timestamp: 1648\n",
      "Epoch 187/200\n",
      "350/350 [==============================] - 9s 25ms/step - loss: 0.0083 - _timestamp: 1648142114.0986 - _runtime: 1635.0986 - val_loss: 0.0074\n",
      "Epoch 188/200\n",
      "350/350 [==============================] - 9s 25ms/step - loss: 0.0083 - _timestamp: 1648142122.9296 - _runtime: 1643.9296 - val_loss: 0.0078\n",
      "Epoch 189/200\n",
      "350/350 [==============================] - 9s 26ms/step - loss: 0.0083 - _timestamp: 1648142131.7606 - _runtime: 1652.7606 - val_loss: 0.0074 - _timestamp: 164814\n",
      "Epoch 190/200\n",
      "350/350 [==============================] - 9s 26ms/step - loss: 0.0082 - _timestamp: 1648142140.9577 - _runtime: 1661.9577 - val_loss: 0.0078\n",
      "Epoch 191/200\n",
      "350/350 [==============================] - 9s 26ms/step - loss: 0.0082 - _timestamp: 1648142150.2676 - _runtime: 1671.2676 - val_loss: 0.0073\n",
      "Epoch 192/200\n",
      "350/350 [==============================] - 9s 26ms/step - loss: 0.0082 - _timestamp: 1648142159.2254 - _runtime: 1680.2254 - val_loss: 0.0076\n",
      "Epoch 193/200\n",
      "350/350 [==============================] - 9s 25ms/step - loss: 0.0083 - _timestamp: 1648142168.1972 - _runtime: 1689.1972 - val_loss: 0.0075\n",
      "Epoch 194/200\n",
      "350/350 [==============================] - 9s 26ms/step - loss: 0.0083 - _timestamp: 1648142176.8732 - _runtime: 1697.8732 - val_loss: 0.0076\n",
      "Epoch 195/200\n",
      "350/350 [==============================] - 9s 26ms/step - loss: 0.0081 - _timestamp: 1648142186.3239 - _runtime: 1707.3239 - val_loss: 0.0079 - _ti\n",
      "Epoch 196/200\n",
      "350/350 [==============================] - 9s 26ms/step - loss: 0.0082 - _timestamp: 1648142195.1549 - _runtime: 1716.1549 - val_loss: 0.0074\n",
      "Epoch 197/200\n",
      "350/350 [==============================] - 9s 25ms/step - loss: 0.0081 - _timestamp: 1648142204.1831 - _runtime: 1725.1831 - val_loss: 0.0073\n",
      "Epoch 198/200\n",
      "350/350 [==============================] - 9s 26ms/step - loss: 0.0082 - _timestamp: 1648142213.2535 - _runtime: 1734.2535 - val_loss: 0.0079\n",
      "Epoch 199/200\n",
      "350/350 [==============================] - 9s 26ms/step - loss: 0.0082 - _timestamp: 1648142222.3521 - _runtime: 1743.3521 - val_loss: 0.0071\n",
      "Epoch 200/200\n",
      "350/350 [==============================] - 8s 24ms/step - loss: 0.0081 - _timestamp: 1648142231.1690 - _runtime: 1752.1690 - val_loss: 0.0074\n"
     ]
    },
    {
     "data": {
      "text/plain": [
       "<keras.callbacks.History at 0x1f4005ff5e0>"
      ]
     },
     "execution_count": 9,
     "metadata": {},
     "output_type": "execute_result"
    }
   ],
   "source": [
    "model.fit(\n",
    "    x_train,\n",
    "    y_train,\n",
    "    validation_split=0.1,\n",
    "    batch_size = wandb.config['batch_size'],\n",
    "    epochs=wandb.config['epochs'],\n",
    "    callbacks=[wandb.keras.WandbCallback(log_batch_frequency=5)])"
   ]
  },
  {
   "cell_type": "code",
   "execution_count": 12,
   "id": "b1c3d8d0",
   "metadata": {},
   "outputs": [
    {
     "name": "stdout",
     "output_type": "stream",
     "text": [
      "\n"
     ]
    },
    {
     "data": {
      "text/html": [
       "Waiting for W&B process to finish... <strong style=\"color:green\">(success).</strong>"
      ],
      "text/plain": [
       "<IPython.core.display.HTML object>"
      ]
     },
     "metadata": {},
     "output_type": "display_data"
    },
    {
     "data": {
      "application/vnd.jupyter.widget-view+json": {
       "model_id": "",
       "version_major": 2,
       "version_minor": 0
      },
      "text/plain": [
       "VBox(children=(Label(value='0.001 MB of 0.001 MB uploaded (0.000 MB deduped)\\r'), FloatProgress(value=1.0, max…"
      ]
     },
     "metadata": {},
     "output_type": "display_data"
    },
    {
     "data": {
      "text/html": [
       "Synced <strong style=\"color:#cdcd00\">robust-bee-40</strong>: <a href=\"https://wandb.ai/efrai/AI_Based_Sensor_Information_Fusion/runs/3371dy48\" target=\"_blank\">https://wandb.ai/efrai/AI_Based_Sensor_Information_Fusion/runs/3371dy48</a><br/>Synced 5 W&B file(s), 0 media file(s), 0 artifact file(s) and 0 other file(s)"
      ],
      "text/plain": [
       "<IPython.core.display.HTML object>"
      ]
     },
     "metadata": {},
     "output_type": "display_data"
    },
    {
     "data": {
      "text/html": [
       "Find logs at: <code>.\\wandb\\run-20220324_174609-3371dy48\\logs</code>"
      ],
      "text/plain": [
       "<IPython.core.display.HTML object>"
      ]
     },
     "metadata": {},
     "output_type": "display_data"
    }
   ],
   "source": [
    "wandb.finish()"
   ]
  },
  {
   "cell_type": "code",
   "execution_count": 46,
   "id": "eede0676",
   "metadata": {},
   "outputs": [],
   "source": [
    "y_pred = model.predict(x_test)"
   ]
  },
  {
   "cell_type": "code",
   "execution_count": 47,
   "id": "b4b53eb4-775d-4c09-b294-9e1856163e21",
   "metadata": {},
   "outputs": [
    {
     "name": "stdout",
     "output_type": "stream",
     "text": [
      "0.6461840805004742\n",
      "0.9724071918961045\n",
      "0.8537899439979582\n",
      "0.92304257672397\n",
      "0.9292223710253416\n",
      "0.9865244926496125\n"
     ]
    }
   ],
   "source": [
    "from sklearn.metrics import r2_score\n",
    "\n",
    "for i in range(6):\n",
    "    print(r2_score(y_test[:][i], y_pred[:][i]))"
   ]
  }
 ],
 "metadata": {
  "kernelspec": {
   "display_name": "Python 3 (ipykernel)",
   "language": "python",
   "name": "python3"
  },
  "language_info": {
   "codemirror_mode": {
    "name": "ipython",
    "version": 3
   },
   "file_extension": ".py",
   "mimetype": "text/x-python",
   "name": "python",
   "nbconvert_exporter": "python",
   "pygments_lexer": "ipython3",
   "version": "3.9.0"
  }
 },
 "nbformat": 4,
 "nbformat_minor": 5
}
