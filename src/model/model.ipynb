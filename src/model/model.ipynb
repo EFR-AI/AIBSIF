{
 "cells": [
  {
   "cell_type": "markdown",
   "id": "2d1bdb7b",
   "metadata": {},
   "source": [
    "# RELANCEZ BIEN LE NOTEBOOK ENTIER A CHAQUE TRAINING POUR GARDER UNE TRACE DES RESULTATS DE CHAQUE MODEL\n",
    "\n",
    "le model.summary est saved dans saved_models/nom_du_run_wandb"
   ]
  },
  {
   "cell_type": "code",
   "execution_count": 92,
   "id": "7a9dcaa3",
   "metadata": {},
   "outputs": [],
   "source": [
    "import sys\n",
    "sys.path.append('../data_cleaning')\n",
    "\n",
    "from time_series_forecasting import create_dataset\n"
   ]
  },
  {
   "cell_type": "code",
   "execution_count": 93,
   "id": "1c633324",
   "metadata": {},
   "outputs": [],
   "source": [
    "import wandb\n",
    "import tensorflow as tf"
   ]
  },
  {
   "cell_type": "markdown",
   "id": "1bc2aea6",
   "metadata": {},
   "source": [
    "### create wandb_api_key.txt and paste your api key inside &nbsp;&nbsp;&nbsp;&nbsp;&nbsp;&nbsp;&nbsp;&nbsp;&nbsp;&nbsp;&nbsp;&nbsp;&nbsp;&nbsp;&nbsp;&nbsp;&nbsp;&nbsp;&nbsp;&nbsp;&nbsp;&nbsp;&nbsp;&nbsp;&nbsp;&nbsp;&nbsp;&nbsp;&nbsp;&nbsp;&nbsp; from https://wandb.ai/settings"
   ]
  },
  {
   "cell_type": "code",
   "execution_count": 102,
   "id": "d54c1e65",
   "metadata": {
    "scrolled": false
   },
   "outputs": [
    {
     "name": "stderr",
     "output_type": "stream",
     "text": [
      "\u001b[34m\u001b[1mwandb\u001b[0m: \u001b[33mWARNING\u001b[0m If you're specifying your api key in code, ensure this code is not shared publicly.\n",
      "\u001b[34m\u001b[1mwandb\u001b[0m: \u001b[33mWARNING\u001b[0m Consider setting the WANDB_API_KEY environment variable, or running `wandb login` from the command line.\n",
      "\u001b[34m\u001b[1mwandb\u001b[0m: Appending key for api.wandb.ai to your netrc file: C:\\Users\\seren/.netrc\n"
     ]
    }
   ],
   "source": [
    "file = open('wandb_api_key.txt', 'r')\n",
    "wandb.login(key=file.readline()) # mettez\n",
    "file.close()\n",
    "            "
   ]
  },
  {
   "cell_type": "code",
   "execution_count": 12,
   "id": "18c5c125",
   "metadata": {},
   "outputs": [],
   "source": [
    "train, val, test = create_dataset(window_size=6)\n"
   ]
  },
  {
   "cell_type": "code",
   "execution_count": 89,
   "id": "ba27dbe9",
   "metadata": {},
   "outputs": [],
   "source": [
    "wandb.init(project=\"AI_Based_Sensor_Information_Fusion\", entity=\"efrai\")\n",
    "batch_size = TODO\n",
    "epochs = TODO\n",
    "learning_rate = TODO\n",
    "wandb.config = {\n",
    "  \"learning_rate\": learning_rate,\n",
    "  \"epochs\": epochs,\n",
    "  \"batch_size\": batch_size\n",
    "}\n",
    "\n",
    "\n",
    "model = tf.keras.Sequential([\n",
    "    TODO\n",
    "])\n",
    "\n",
    "model.compile(optimizer=tf.keras.optimizers.TODO, loss=TODO, metrics=[TODO])"
   ]
  },
  {
   "cell_type": "code",
   "execution_count": 90,
   "id": "e6ccc31e",
   "metadata": {},
   "outputs": [
    {
     "name": "stdout",
     "output_type": "stream",
     "text": [
      "Model: \"sequential_8\"\n",
      "_________________________________________________________________\n",
      " Layer (type)                Output Shape              Param #   \n",
      "=================================================================\n",
      " dense_13 (Dense)            (None, 256)               2816      \n",
      "                                                                 \n",
      " dense_14 (Dense)            (None, 256)               65792     \n",
      "                                                                 \n",
      " dense_15 (Dense)            (None, 10)                2570      \n",
      "                                                                 \n",
      "=================================================================\n",
      "Total params: 71,178\n",
      "Trainable params: 71,178\n",
      "Non-trainable params: 0\n",
      "_________________________________________________________________\n",
      "None\n"
     ]
    }
   ],
   "source": [
    "print(model.summary())\n",
    "\n",
    "tmp_stdout = sys.stdout\n",
    "file = open('saved_models/'+wandb.run.name+'.txt', 'w')\n",
    "sys.stdout = file\n",
    "print(model.summary())\n",
    "sys.stdout=tmp_stdout\n",
    "file.close()"
   ]
  },
  {
   "cell_type": "code",
   "execution_count": 85,
   "id": "7577f6b8",
   "metadata": {},
   "outputs": [],
   "source": [
    "model.fit(\n",
    "    x_train, \n",
    "    y_train, \n",
    "    validation_data=(x_test, y_test)\n",
    "    epochs=epochs,\n",
    "    callbacks=[WandbCallback(log_batch_frequency=5)])\n"
   ]
  },
  {
   "cell_type": "code",
   "execution_count": 99,
   "id": "b1c3d8d0",
   "metadata": {},
   "outputs": [],
   "source": [
    "wandb.finish()"
   ]
  },
  {
   "cell_type": "code",
   "execution_count": null,
   "id": "eede0676",
   "metadata": {},
   "outputs": [],
   "source": []
  }
 ],
 "metadata": {
  "kernelspec": {
   "display_name": "Python 3",
   "language": "python",
   "name": "python3"
  },
  "language_info": {
   "codemirror_mode": {
    "name": "ipython",
    "version": 3
   },
   "file_extension": ".py",
   "mimetype": "text/x-python",
   "name": "python",
   "nbconvert_exporter": "python",
   "pygments_lexer": "ipython3",
   "version": "3.7.7"
  }
 },
 "nbformat": 4,
 "nbformat_minor": 5
}
