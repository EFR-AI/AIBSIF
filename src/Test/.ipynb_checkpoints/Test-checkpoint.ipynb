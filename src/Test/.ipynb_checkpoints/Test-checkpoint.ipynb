{
 "cells": [
  {
   "cell_type": "code",
   "execution_count": 1,
   "id": "912dce3d-9de0-452f-b114-a43b7abcbe18",
   "metadata": {},
   "outputs": [],
   "source": [
    "window_size = 30\n",
    "stride = 5"
   ]
  },
  {
   "cell_type": "code",
   "execution_count": 8,
   "id": "dc9989d5-451e-4b58-a179-68c329c0f297",
   "metadata": {},
   "outputs": [],
   "source": [
    "import sys\n",
    "sys.path.append('../data_cleaning')\n",
    "\n",
    "from dataset import test_data\n",
    "\n",
    "import pandas as pd\n",
    "\n",
    "import tensorflow as tf\n",
    "\n",
    "from keras.utils.vis_utils import plot_model"
   ]
  },
  {
   "cell_type": "code",
   "execution_count": 3,
   "id": "0fda937a-e2fd-4beb-8c2f-739455352994",
   "metadata": {},
   "outputs": [],
   "source": [
    "mes, true = test_data(window_size,stride)"
   ]
  },
  {
   "cell_type": "code",
   "execution_count": 4,
   "id": "81d5acc8-17f6-4a25-bf77-8ae01cb8ea12",
   "metadata": {},
   "outputs": [],
   "source": [
    "model = tf.keras.models.load_model('../model/best_model.h5')"
   ]
  },
  {
   "cell_type": "code",
   "execution_count": 5,
   "id": "dd75361b-4ee5-4232-9313-39d62d64f347",
   "metadata": {},
   "outputs": [],
   "source": [
    "y_pred = model.predict(mes)"
   ]
  },
  {
   "cell_type": "code",
   "execution_count": 10,
   "id": "8083eb15-0e3b-4fb1-9c2f-ea566a997c3b",
   "metadata": {},
   "outputs": [
    {
     "ename": "NameError",
     "evalue": "name 'model_summary' is not defined",
     "output_type": "error",
     "traceback": [
      "\u001b[1;31m---------------------------------------------------------------------------\u001b[0m",
      "\u001b[1;31mNameError\u001b[0m                                 Traceback (most recent call last)",
      "\u001b[1;32m~\\AppData\\Local\\Temp/ipykernel_12404/1408710179.py\u001b[0m in \u001b[0;36m<module>\u001b[1;34m\u001b[0m\n\u001b[1;32m----> 1\u001b[1;33m \u001b[0mmodel_summary\u001b[0m\u001b[1;33m(\u001b[0m\u001b[1;33m)\u001b[0m\u001b[1;33m\u001b[0m\u001b[1;33m\u001b[0m\u001b[0m\n\u001b[0m",
      "\u001b[1;31mNameError\u001b[0m: name 'model_summary' is not defined"
     ]
    }
   ],
   "source": [
    "model"
   ]
  },
  {
   "cell_type": "code",
   "execution_count": 13,
   "id": "89e64c58-9d3f-4c36-ba0a-e7ef51bd5666",
   "metadata": {},
   "outputs": [],
   "source": [
    "from sklearn.metrics import r2_score\n",
    "\n",
    "list_r2 = []\n",
    "\n",
    "for i in range(6):\n",
    "    list_r2.append([r2_score(true[:][i], y_pred[:][i])])"
   ]
  },
  {
   "cell_type": "code",
   "execution_count": 17,
   "id": "8f37c3c8-25ef-4b0a-9e8f-c7bb47c43f4b",
   "metadata": {},
   "outputs": [
    {
     "data": {
      "text/html": [
       "<div>\n",
       "<style scoped>\n",
       "    .dataframe tbody tr th:only-of-type {\n",
       "        vertical-align: middle;\n",
       "    }\n",
       "\n",
       "    .dataframe tbody tr th {\n",
       "        vertical-align: top;\n",
       "    }\n",
       "\n",
       "    .dataframe thead th {\n",
       "        text-align: right;\n",
       "    }\n",
       "</style>\n",
       "<table border=\"1\" class=\"dataframe\">\n",
       "  <thead>\n",
       "    <tr style=\"text-align: right;\">\n",
       "      <th></th>\n",
       "      <th>R2 Score</th>\n",
       "    </tr>\n",
       "  </thead>\n",
       "  <tbody>\n",
       "    <tr>\n",
       "      <th>Acceleration en x avec g</th>\n",
       "      <td>0.921947</td>\n",
       "    </tr>\n",
       "    <tr>\n",
       "      <th>Acceleration en y avec g</th>\n",
       "      <td>0.961553</td>\n",
       "    </tr>\n",
       "    <tr>\n",
       "      <th>Acceleration en z avec g</th>\n",
       "      <td>0.860765</td>\n",
       "    </tr>\n",
       "    <tr>\n",
       "      <th>Angle phi</th>\n",
       "      <td>0.956786</td>\n",
       "    </tr>\n",
       "    <tr>\n",
       "      <th>Angle theta</th>\n",
       "      <td>0.911263</td>\n",
       "    </tr>\n",
       "    <tr>\n",
       "      <th>Angle psi</th>\n",
       "      <td>0.797662</td>\n",
       "    </tr>\n",
       "  </tbody>\n",
       "</table>\n",
       "</div>"
      ],
      "text/plain": [
       "                          R2 Score\n",
       "Acceleration en x avec g  0.921947\n",
       "Acceleration en y avec g  0.961553\n",
       "Acceleration en z avec g  0.860765\n",
       "Angle phi                 0.956786\n",
       "Angle theta               0.911263\n",
       "Angle psi                 0.797662"
      ]
     },
     "execution_count": 17,
     "metadata": {},
     "output_type": "execute_result"
    }
   ],
   "source": [
    "pd.DataFrame(list_r2, columns=['R2 Score'], index = [ 'Acceleration en x avec g', 'Acceleration en y avec g',\n",
    "       'Acceleration en z avec g','Angle phi', 'Angle theta', 'Angle psi'])"
   ]
  }
 ],
 "metadata": {
  "kernelspec": {
   "display_name": "Python 3 (ipykernel)",
   "language": "python",
   "name": "python3"
  },
  "language_info": {
   "codemirror_mode": {
    "name": "ipython",
    "version": 3
   },
   "file_extension": ".py",
   "mimetype": "text/x-python",
   "name": "python",
   "nbconvert_exporter": "python",
   "pygments_lexer": "ipython3",
   "version": "3.9.0"
  }
 },
 "nbformat": 4,
 "nbformat_minor": 5
}
